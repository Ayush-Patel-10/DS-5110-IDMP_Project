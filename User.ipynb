{
 "cells": [
  {
   "cell_type": "code",
   "execution_count": 244,
   "id": "97712a4c",
   "metadata": {},
   "outputs": [],
   "source": [
    "from mysql.connector import connect, Error\n",
    "from getpass import getpass\n",
    "\n",
    "import pandas as pd\n",
    "import numpy as np\n",
    "\n",
    "import matplotlib.pyplot as plt"
   ]
  },
  {
   "cell_type": "code",
   "execution_count": 278,
   "id": "ef0c501a",
   "metadata": {},
   "outputs": [],
   "source": [
    "try:\n",
    "    conn = connect(host='localhost', user='root', password='password', database='mydoc')\n",
    "except Error as e:\n",
    "    print(e)"
   ]
  },
  {
   "cell_type": "markdown",
   "id": "20fe5d86",
   "metadata": {},
   "source": [
    "### Ensure Correct Login"
   ]
  },
  {
   "cell_type": "code",
   "execution_count": 246,
   "id": "d7a35d5c",
   "metadata": {},
   "outputs": [],
   "source": [
    "# Enter Users First Name, Last Name, Password\n",
    "\n",
    "def check_login(users_firstname, users_lastname,users_password):\n",
    "\n",
    "    query = \"\"\"SELECT users.password,users.user_id,users.user_type FROM users where users.firstname = %s and users.lastname = %s;\"\"\"\n",
    "\n",
    "    with conn.cursor() as cursor:\n",
    "        #cursor.executemany(query,[(users_firstname, users_lastname)])\n",
    "        cursor.execute(query,(users_firstname, users_lastname, ))\n",
    "        result = cursor.fetchall()\n",
    "        \n",
    "    if(users_password == result[0][0]):\n",
    "        print(\"You have logged in successfully\")\n",
    "    else:\n",
    "        print(\"You have entered the wrong username or password. Please try again\")\n",
    "        \n",
    "    return result[0][1],result[0][2]"
   ]
  },
  {
   "cell_type": "code",
   "execution_count": 247,
   "id": "0ae0c8db",
   "metadata": {},
   "outputs": [
    {
     "name": "stdout",
     "output_type": "stream",
     "text": [
      "You have logged in successfully\n"
     ]
    }
   ],
   "source": [
    "users_firstname = 'Kahaleel'\n",
    "users_lastname = 'Boorer'\n",
    "\n",
    "users_password = 'tYBNSC0ScPw2'\n",
    "\n",
    "\n",
    "users_userid, users_usertype = check_login(users_firstname, users_lastname,users_password)"
   ]
  },
  {
   "cell_type": "code",
   "execution_count": 248,
   "id": "56dc93d5",
   "metadata": {},
   "outputs": [
    {
     "data": {
      "text/plain": [
       "(1, 'patient')"
      ]
     },
     "execution_count": 248,
     "metadata": {},
     "output_type": "execute_result"
    }
   ],
   "source": [
    "users_userid, users_usertype"
   ]
  },
  {
   "cell_type": "markdown",
   "id": "9cca839d",
   "metadata": {},
   "source": [
    "### Filter the Hospital and Department to View Doctors Available on a particular day"
   ]
  },
  {
   "cell_type": "markdown",
   "id": "ff110577",
   "metadata": {},
   "source": [
    "Select Hospital"
   ]
  },
  {
   "cell_type": "code",
   "execution_count": 249,
   "id": "1aa87870",
   "metadata": {},
   "outputs": [
    {
     "data": {
      "text/html": [
       "<div>\n",
       "<style scoped>\n",
       "    .dataframe tbody tr th:only-of-type {\n",
       "        vertical-align: middle;\n",
       "    }\n",
       "\n",
       "    .dataframe tbody tr th {\n",
       "        vertical-align: top;\n",
       "    }\n",
       "\n",
       "    .dataframe thead th {\n",
       "        text-align: right;\n",
       "    }\n",
       "</style>\n",
       "<table border=\"1\" class=\"dataframe\">\n",
       "  <thead>\n",
       "    <tr style=\"text-align: right;\">\n",
       "      <th></th>\n",
       "      <th>Hospital</th>\n",
       "      <th>City</th>\n",
       "    </tr>\n",
       "  </thead>\n",
       "  <tbody>\n",
       "    <tr>\n",
       "      <th>0</th>\n",
       "      <td>Cormier LLC</td>\n",
       "      <td>Houston</td>\n",
       "    </tr>\n",
       "    <tr>\n",
       "      <th>1</th>\n",
       "      <td>Klein-Wisoky</td>\n",
       "      <td>Miami</td>\n",
       "    </tr>\n",
       "    <tr>\n",
       "      <th>2</th>\n",
       "      <td>Dietrich-Bogisich</td>\n",
       "      <td>Fort Wayne</td>\n",
       "    </tr>\n",
       "    <tr>\n",
       "      <th>3</th>\n",
       "      <td>Gusikowski Inc</td>\n",
       "      <td>Anderson</td>\n",
       "    </tr>\n",
       "    <tr>\n",
       "      <th>4</th>\n",
       "      <td>Braun, Harris and Gislason</td>\n",
       "      <td>Springfield</td>\n",
       "    </tr>\n",
       "    <tr>\n",
       "      <th>5</th>\n",
       "      <td>Corkery-Christiansen</td>\n",
       "      <td>Oklahoma City</td>\n",
       "    </tr>\n",
       "    <tr>\n",
       "      <th>6</th>\n",
       "      <td>Walter-Wehner</td>\n",
       "      <td>Austin</td>\n",
       "    </tr>\n",
       "    <tr>\n",
       "      <th>7</th>\n",
       "      <td>Cole-Block</td>\n",
       "      <td>Hicksville</td>\n",
       "    </tr>\n",
       "    <tr>\n",
       "      <th>8</th>\n",
       "      <td>Grady, Goyette and Hilpert</td>\n",
       "      <td>North Hollywood</td>\n",
       "    </tr>\n",
       "    <tr>\n",
       "      <th>9</th>\n",
       "      <td>Fadel-Towne</td>\n",
       "      <td>Sioux Falls</td>\n",
       "    </tr>\n",
       "    <tr>\n",
       "      <th>10</th>\n",
       "      <td>Rolfson LLC</td>\n",
       "      <td>Garland</td>\n",
       "    </tr>\n",
       "    <tr>\n",
       "      <th>11</th>\n",
       "      <td>Mayert LLC</td>\n",
       "      <td>Indianapolis</td>\n",
       "    </tr>\n",
       "    <tr>\n",
       "      <th>12</th>\n",
       "      <td>Bogisich-Olson</td>\n",
       "      <td>Newport Beach</td>\n",
       "    </tr>\n",
       "    <tr>\n",
       "      <th>13</th>\n",
       "      <td>Casper LLC</td>\n",
       "      <td>North Las Vegas</td>\n",
       "    </tr>\n",
       "    <tr>\n",
       "      <th>14</th>\n",
       "      <td>Willms, Littel and Fadel</td>\n",
       "      <td>Saint Louis</td>\n",
       "    </tr>\n",
       "    <tr>\n",
       "      <th>15</th>\n",
       "      <td>Harvey-Nolan</td>\n",
       "      <td>Davenport</td>\n",
       "    </tr>\n",
       "    <tr>\n",
       "      <th>16</th>\n",
       "      <td>Sipes, Ebert and Kessler</td>\n",
       "      <td>San Antonio</td>\n",
       "    </tr>\n",
       "    <tr>\n",
       "      <th>17</th>\n",
       "      <td>Altenwerth LLC</td>\n",
       "      <td>Lawrenceville</td>\n",
       "    </tr>\n",
       "    <tr>\n",
       "      <th>18</th>\n",
       "      <td>Little and Sons</td>\n",
       "      <td>Clearwater</td>\n",
       "    </tr>\n",
       "    <tr>\n",
       "      <th>19</th>\n",
       "      <td>McKenzie LLC</td>\n",
       "      <td>Saint Paul</td>\n",
       "    </tr>\n",
       "    <tr>\n",
       "      <th>20</th>\n",
       "      <td>Hansen and Sons</td>\n",
       "      <td>Lancaster</td>\n",
       "    </tr>\n",
       "  </tbody>\n",
       "</table>\n",
       "</div>"
      ],
      "text/plain": [
       "                      Hospital             City\n",
       "0                  Cormier LLC          Houston\n",
       "1                 Klein-Wisoky            Miami\n",
       "2            Dietrich-Bogisich       Fort Wayne\n",
       "3               Gusikowski Inc         Anderson\n",
       "4   Braun, Harris and Gislason      Springfield\n",
       "5         Corkery-Christiansen    Oklahoma City\n",
       "6                Walter-Wehner           Austin\n",
       "7                   Cole-Block       Hicksville\n",
       "8   Grady, Goyette and Hilpert  North Hollywood\n",
       "9                  Fadel-Towne      Sioux Falls\n",
       "10                 Rolfson LLC          Garland\n",
       "11                  Mayert LLC     Indianapolis\n",
       "12              Bogisich-Olson    Newport Beach\n",
       "13                  Casper LLC  North Las Vegas\n",
       "14    Willms, Littel and Fadel      Saint Louis\n",
       "15                Harvey-Nolan        Davenport\n",
       "16    Sipes, Ebert and Kessler      San Antonio\n",
       "17              Altenwerth LLC    Lawrenceville\n",
       "18             Little and Sons       Clearwater\n",
       "19                McKenzie LLC       Saint Paul\n",
       "20             Hansen and Sons        Lancaster"
      ]
     },
     "metadata": {},
     "output_type": "display_data"
    }
   ],
   "source": [
    "query = \"\"\"SELECT hospitals.name, hospitals.city from hospitals;\"\"\"\n",
    "\n",
    "with conn.cursor() as cursor:\n",
    "    cursor.execute(query)\n",
    "    result = cursor.fetchall()\n",
    "\n",
    "df = pd.DataFrame(result)\n",
    "df.columns = [\"Hospital\", \"City\"]\n",
    "display(df)"
   ]
  },
  {
   "cell_type": "code",
   "execution_count": 250,
   "id": "ed88ba03",
   "metadata": {},
   "outputs": [],
   "source": [
    "hospital_name = 'Cormier LLC'"
   ]
  },
  {
   "cell_type": "code",
   "execution_count": 251,
   "id": "c8faa8e2",
   "metadata": {},
   "outputs": [
    {
     "data": {
      "text/plain": [
       "1"
      ]
     },
     "execution_count": 251,
     "metadata": {},
     "output_type": "execute_result"
    }
   ],
   "source": [
    "def get_hospital_id(hospital_name):\n",
    "    query = \"\"\"SELECT hospitals.hospital_id from hospitals where hospitals.name = %s;\"\"\"\n",
    "\n",
    "    with conn.cursor() as cursor:\n",
    "        cursor.execute(query,(hospital_name, ))\n",
    "        result = cursor.fetchall()\n",
    "        \n",
    "    return result[0][0]\n",
    "\n",
    "hospital_id = get_hospital_id(hospital_name)\n",
    "hospital_id"
   ]
  },
  {
   "cell_type": "markdown",
   "id": "35eba6a4",
   "metadata": {},
   "source": [
    "Select Department"
   ]
  },
  {
   "cell_type": "code",
   "execution_count": 252,
   "id": "18ef268b",
   "metadata": {},
   "outputs": [
    {
     "data": {
      "text/html": [
       "<div>\n",
       "<style scoped>\n",
       "    .dataframe tbody tr th:only-of-type {\n",
       "        vertical-align: middle;\n",
       "    }\n",
       "\n",
       "    .dataframe tbody tr th {\n",
       "        vertical-align: top;\n",
       "    }\n",
       "\n",
       "    .dataframe thead th {\n",
       "        text-align: right;\n",
       "    }\n",
       "</style>\n",
       "<table border=\"1\" class=\"dataframe\">\n",
       "  <thead>\n",
       "    <tr style=\"text-align: right;\">\n",
       "      <th></th>\n",
       "      <th>Department Name</th>\n",
       "      <th>Description</th>\n",
       "    </tr>\n",
       "  </thead>\n",
       "  <tbody>\n",
       "    <tr>\n",
       "      <th>0</th>\n",
       "      <td>Department of Paediatrics</td>\n",
       "      <td>Paediatrics</td>\n",
       "    </tr>\n",
       "    <tr>\n",
       "      <th>1</th>\n",
       "      <td>Department of Dental care</td>\n",
       "      <td>Dental</td>\n",
       "    </tr>\n",
       "  </tbody>\n",
       "</table>\n",
       "</div>"
      ],
      "text/plain": [
       "             Department Name  Description\n",
       "0  Department of Paediatrics  Paediatrics\n",
       "1  Department of Dental care       Dental"
      ]
     },
     "metadata": {},
     "output_type": "display_data"
    }
   ],
   "source": [
    "query = \"\"\"SELECT departments.name,departments.department_spec  \n",
    "            FROM hosp_dept, departments\n",
    "            WHERE hosp_dept.department_id = departments.department_id AND\n",
    "            hosp_dept.hospital_id = %s;\"\"\"\n",
    "\n",
    "with conn.cursor() as cursor:\n",
    "    cursor.execute(query,(hospital_id, ))\n",
    "    result = cursor.fetchall()\n",
    "    \n",
    "df = pd.DataFrame(result)\n",
    "df.columns = [\"Department Name\", \"Description\"]\n",
    "\n",
    "display(df)"
   ]
  },
  {
   "cell_type": "code",
   "execution_count": 253,
   "id": "c2531a97",
   "metadata": {},
   "outputs": [],
   "source": [
    "dept_name = 'Department of Paediatrics'"
   ]
  },
  {
   "cell_type": "code",
   "execution_count": 254,
   "id": "dc74fe0d",
   "metadata": {},
   "outputs": [
    {
     "data": {
      "text/plain": [
       "5"
      ]
     },
     "execution_count": 254,
     "metadata": {},
     "output_type": "execute_result"
    }
   ],
   "source": [
    "def get_dept_id(dept_name):\n",
    "    query = \"\"\"SELECT departments.department_id from departments where departments.name = %s;\"\"\"\n",
    "\n",
    "    with conn.cursor() as cursor:\n",
    "        cursor.execute(query,(dept_name, ))\n",
    "        result = cursor.fetchall()\n",
    "        \n",
    "    return result[0][0]\n",
    "\n",
    "dept_id = get_dept_id(dept_name)\n",
    "dept_id"
   ]
  },
  {
   "cell_type": "markdown",
   "id": "6c6a1dcd",
   "metadata": {},
   "source": [
    "### View Previous Appointments"
   ]
  },
  {
   "cell_type": "code",
   "execution_count": 255,
   "id": "5985f2e6",
   "metadata": {},
   "outputs": [],
   "source": [
    "query = \"SELECT * FROM previous_appointments_user\"\n",
    "\n",
    "with conn.cursor() as cursor:\n",
    "    cursor.execute(query)\n",
    "    result = cursor.fetchall()"
   ]
  },
  {
   "cell_type": "code",
   "execution_count": 256,
   "id": "fb96f9a8",
   "metadata": {},
   "outputs": [
    {
     "data": {
      "text/html": [
       "<div>\n",
       "<style scoped>\n",
       "    .dataframe tbody tr th:only-of-type {\n",
       "        vertical-align: middle;\n",
       "    }\n",
       "\n",
       "    .dataframe tbody tr th {\n",
       "        vertical-align: top;\n",
       "    }\n",
       "\n",
       "    .dataframe thead th {\n",
       "        text-align: right;\n",
       "    }\n",
       "</style>\n",
       "<table border=\"1\" class=\"dataframe\">\n",
       "  <thead>\n",
       "    <tr style=\"text-align: right;\">\n",
       "      <th></th>\n",
       "      <th>Appointment ID</th>\n",
       "      <th>Appointment Date</th>\n",
       "      <th>Appointment Time</th>\n",
       "      <th>Doctor Name</th>\n",
       "      <th>Hospital Name</th>\n",
       "    </tr>\n",
       "  </thead>\n",
       "  <tbody>\n",
       "    <tr>\n",
       "      <th>0</th>\n",
       "      <td>4</td>\n",
       "      <td>2020-08-22</td>\n",
       "      <td>0 days 10:00:00</td>\n",
       "      <td>Sophronia Brighty</td>\n",
       "      <td>Gusikowski Inc</td>\n",
       "    </tr>\n",
       "    <tr>\n",
       "      <th>1</th>\n",
       "      <td>1</td>\n",
       "      <td>2022-11-28</td>\n",
       "      <td>0 days 13:00:00</td>\n",
       "      <td>Amie Coltman</td>\n",
       "      <td>Cormier LLC</td>\n",
       "    </tr>\n",
       "    <tr>\n",
       "      <th>2</th>\n",
       "      <td>16</td>\n",
       "      <td>2022-11-30</td>\n",
       "      <td>0 days 20:00:00</td>\n",
       "      <td>Amie Coltman</td>\n",
       "      <td>Cormier LLC</td>\n",
       "    </tr>\n",
       "  </tbody>\n",
       "</table>\n",
       "</div>"
      ],
      "text/plain": [
       "   Appointment ID Appointment Date Appointment Time        Doctor Name  \\\n",
       "0               4       2020-08-22  0 days 10:00:00  Sophronia Brighty   \n",
       "1               1       2022-11-28  0 days 13:00:00       Amie Coltman   \n",
       "2              16       2022-11-30  0 days 20:00:00       Amie Coltman   \n",
       "\n",
       "    Hospital Name  \n",
       "0  Gusikowski Inc  \n",
       "1     Cormier LLC  \n",
       "2     Cormier LLC  "
      ]
     },
     "metadata": {},
     "output_type": "display_data"
    }
   ],
   "source": [
    "df = pd.DataFrame(result)\n",
    "df.columns = [\"Appointment ID\",\"Appointment Date\",\"Appointment Time\",\"Doctor Name\", \"Hospital Name\"]\n",
    "\n",
    "display(df)"
   ]
  },
  {
   "cell_type": "markdown",
   "id": "83f7850c",
   "metadata": {},
   "source": [
    "### Book an Appointment with the doctor of your choice (subject to availability)"
   ]
  },
  {
   "cell_type": "markdown",
   "id": "0e5dba65",
   "metadata": {},
   "source": [
    "Select Doctor"
   ]
  },
  {
   "cell_type": "code",
   "execution_count": 257,
   "id": "28bc9fa4",
   "metadata": {},
   "outputs": [],
   "source": [
    "doctor_id = '11'"
   ]
  },
  {
   "cell_type": "markdown",
   "id": "c5ecb0a0",
   "metadata": {},
   "source": [
    "Select Date for booking Appointment"
   ]
  },
  {
   "cell_type": "code",
   "execution_count": 258,
   "id": "28e5b619",
   "metadata": {},
   "outputs": [],
   "source": [
    "appointment_date = '2022-11-30'"
   ]
  },
  {
   "cell_type": "markdown",
   "id": "d6f32e88",
   "metadata": {},
   "source": [
    "Select Appointment Time"
   ]
  },
  {
   "cell_type": "code",
   "execution_count": 259,
   "id": "38723b48",
   "metadata": {},
   "outputs": [],
   "source": [
    "appointment_time = '20:00:00'"
   ]
  },
  {
   "cell_type": "code",
   "execution_count": 260,
   "id": "037dae10",
   "metadata": {},
   "outputs": [
    {
     "name": "stdout",
     "output_type": "stream",
     "text": [
      "Doctor Not Available. Please Book for another time\n"
     ]
    }
   ],
   "source": [
    "def book_appointment(users_userid,doctor_id,hospital_id,appointment_time,appointment_date):\n",
    "    status_code = \"\"\n",
    "    message = \"\"\n",
    "    with conn.cursor() as cursor:\n",
    "        cursor.callproc('bookAppointment',(users_userid,doctor_id,hospital_id,appointment_time,appointment_date,status_code,message))\n",
    "        results = cursor.stored_results()\n",
    "        \n",
    "        for result in results:\n",
    "            print(result.fetchall()[0][1])\n",
    "    \n",
    "book_appointment(users_userid,doctor_id,hospital_id,appointment_time,appointment_date)"
   ]
  },
  {
   "cell_type": "code",
   "execution_count": 261,
   "id": "2b359799",
   "metadata": {},
   "outputs": [],
   "source": [
    "conn.commit()"
   ]
  },
  {
   "cell_type": "markdown",
   "id": "39545401",
   "metadata": {},
   "source": [
    "### Doctor can view their schedule"
   ]
  },
  {
   "cell_type": "code",
   "execution_count": 262,
   "id": "d7b004aa",
   "metadata": {},
   "outputs": [],
   "source": [
    "query = \"\"\"SELECT * FROM mydoc.this_week_appointments_mydoc\"\"\"\n",
    "\n",
    "with conn.cursor() as cursor:\n",
    "    cursor.execute(query)\n",
    "    result = cursor.fetchall()"
   ]
  },
  {
   "cell_type": "code",
   "execution_count": 263,
   "id": "8b3fa373",
   "metadata": {},
   "outputs": [
    {
     "data": {
      "text/html": [
       "<div>\n",
       "<style scoped>\n",
       "    .dataframe tbody tr th:only-of-type {\n",
       "        vertical-align: middle;\n",
       "    }\n",
       "\n",
       "    .dataframe tbody tr th {\n",
       "        vertical-align: top;\n",
       "    }\n",
       "\n",
       "    .dataframe thead th {\n",
       "        text-align: right;\n",
       "    }\n",
       "</style>\n",
       "<table border=\"1\" class=\"dataframe\">\n",
       "  <thead>\n",
       "    <tr style=\"text-align: right;\">\n",
       "      <th></th>\n",
       "      <th>Hospital ID</th>\n",
       "      <th>Hospital Name</th>\n",
       "      <th>Doctor ID</th>\n",
       "      <th>Doctor Name</th>\n",
       "      <th>User ID</th>\n",
       "      <th>Patient Name</th>\n",
       "      <th>Appointment ID</th>\n",
       "      <th>Appointment Date</th>\n",
       "      <th>Appointment Date</th>\n",
       "    </tr>\n",
       "  </thead>\n",
       "  <tbody>\n",
       "    <tr>\n",
       "      <th>0</th>\n",
       "      <td>1</td>\n",
       "      <td>Cormier LLC</td>\n",
       "      <td>11</td>\n",
       "      <td>Amie Coltman</td>\n",
       "      <td>1</td>\n",
       "      <td>Kahaleel Boorer</td>\n",
       "      <td>1</td>\n",
       "      <td>2022-11-28</td>\n",
       "      <td>0 days 13:00:00</td>\n",
       "    </tr>\n",
       "    <tr>\n",
       "      <th>1</th>\n",
       "      <td>1</td>\n",
       "      <td>Cormier LLC</td>\n",
       "      <td>11</td>\n",
       "      <td>Amie Coltman</td>\n",
       "      <td>2</td>\n",
       "      <td>Harmon Mayell</td>\n",
       "      <td>2</td>\n",
       "      <td>2022-11-28</td>\n",
       "      <td>0 days 14:00:00</td>\n",
       "    </tr>\n",
       "    <tr>\n",
       "      <th>2</th>\n",
       "      <td>1</td>\n",
       "      <td>Cormier LLC</td>\n",
       "      <td>11</td>\n",
       "      <td>Amie Coltman</td>\n",
       "      <td>3</td>\n",
       "      <td>Joycelin Toon</td>\n",
       "      <td>3</td>\n",
       "      <td>2022-11-28</td>\n",
       "      <td>0 days 17:00:00</td>\n",
       "    </tr>\n",
       "    <tr>\n",
       "      <th>3</th>\n",
       "      <td>1</td>\n",
       "      <td>Cormier LLC</td>\n",
       "      <td>11</td>\n",
       "      <td>Amie Coltman</td>\n",
       "      <td>1</td>\n",
       "      <td>Kahaleel Boorer</td>\n",
       "      <td>16</td>\n",
       "      <td>2022-11-30</td>\n",
       "      <td>0 days 20:00:00</td>\n",
       "    </tr>\n",
       "  </tbody>\n",
       "</table>\n",
       "</div>"
      ],
      "text/plain": [
       "   Hospital ID Hospital Name  Doctor ID   Doctor Name  User ID  \\\n",
       "0            1   Cormier LLC         11  Amie Coltman        1   \n",
       "1            1   Cormier LLC         11  Amie Coltman        2   \n",
       "2            1   Cormier LLC         11  Amie Coltman        3   \n",
       "3            1   Cormier LLC         11  Amie Coltman        1   \n",
       "\n",
       "      Patient Name  Appointment ID Appointment Date Appointment Date  \n",
       "0  Kahaleel Boorer               1       2022-11-28  0 days 13:00:00  \n",
       "1    Harmon Mayell               2       2022-11-28  0 days 14:00:00  \n",
       "2    Joycelin Toon               3       2022-11-28  0 days 17:00:00  \n",
       "3  Kahaleel Boorer              16       2022-11-30  0 days 20:00:00  "
      ]
     },
     "metadata": {},
     "output_type": "display_data"
    }
   ],
   "source": [
    "df = pd.DataFrame(result)\n",
    "df.columns = [\"Hospital ID\", \"Hospital Name\", \"Doctor ID\", \"Doctor Name\", \"User ID\", \"Patient Name\", \"Appointment ID\", \"Appointment Date\", \"Appointment Date\"]\n",
    "\n",
    "display(df)"
   ]
  },
  {
   "cell_type": "markdown",
   "id": "36fbeba7",
   "metadata": {},
   "source": [
    "### Generate the Bill After Diagnosis"
   ]
  },
  {
   "cell_type": "markdown",
   "id": "c03e7996",
   "metadata": {},
   "source": [
    "<b>Here while generating the bill, we are giving a discount of 10% if the Final bill is above 500.</b>"
   ]
  },
  {
   "cell_type": "markdown",
   "id": "1245929d",
   "metadata": {},
   "source": [
    "<b>Insertion of diagnosis to show the trigger</b>"
   ]
  },
  {
   "cell_type": "code",
   "execution_count": 264,
   "id": "5453ddb2",
   "metadata": {},
   "outputs": [
    {
     "ename": "IntegrityError",
     "evalue": "1062 (23000): Duplicate entry '1-1-1' for key 'diagnosis.PRIMARY'",
     "output_type": "error",
     "traceback": [
      "\u001b[0;31m---------------------------------------------------------------------------\u001b[0m",
      "\u001b[0;31mIntegrityError\u001b[0m                            Traceback (most recent call last)",
      "Input \u001b[0;32mIn [264]\u001b[0m, in \u001b[0;36m<cell line: 2>\u001b[0;34m()\u001b[0m\n\u001b[1;32m      1\u001b[0m query \u001b[38;5;241m=\u001b[39m \u001b[38;5;124m\"\u001b[39m\u001b[38;5;124minsert into diagnosis (appointment_id, prescription_id, lab_test_id) values (1, 1, 1);\u001b[39m\u001b[38;5;124m\"\u001b[39m\n\u001b[1;32m      2\u001b[0m \u001b[38;5;28;01mwith\u001b[39;00m conn\u001b[38;5;241m.\u001b[39mcursor() \u001b[38;5;28;01mas\u001b[39;00m cursor:\n\u001b[0;32m----> 3\u001b[0m     \u001b[43mcursor\u001b[49m\u001b[38;5;241;43m.\u001b[39;49m\u001b[43mexecute\u001b[49m\u001b[43m(\u001b[49m\u001b[43mquery\u001b[49m\u001b[43m)\u001b[49m\n\u001b[1;32m      4\u001b[0m     result \u001b[38;5;241m=\u001b[39m cursor\u001b[38;5;241m.\u001b[39mfetchall()\n",
      "File \u001b[0;32m/opt/anaconda3/lib/python3.9/site-packages/mysql/connector/cursor.py:564\u001b[0m, in \u001b[0;36mMySQLCursor.execute\u001b[0;34m(self, operation, params, multi)\u001b[0m\n\u001b[1;32m    561\u001b[0m     \u001b[38;5;28;01mreturn\u001b[39;00m \u001b[38;5;28mself\u001b[39m\u001b[38;5;241m.\u001b[39m_execute_iter(\u001b[38;5;28mself\u001b[39m\u001b[38;5;241m.\u001b[39m_connection\u001b[38;5;241m.\u001b[39mcmd_query_iter(stmt))\n\u001b[1;32m    563\u001b[0m \u001b[38;5;28;01mtry\u001b[39;00m:\n\u001b[0;32m--> 564\u001b[0m     \u001b[38;5;28mself\u001b[39m\u001b[38;5;241m.\u001b[39m_handle_result(\u001b[38;5;28;43mself\u001b[39;49m\u001b[38;5;241;43m.\u001b[39;49m\u001b[43m_connection\u001b[49m\u001b[38;5;241;43m.\u001b[39;49m\u001b[43mcmd_query\u001b[49m\u001b[43m(\u001b[49m\u001b[43mstmt\u001b[49m\u001b[43m)\u001b[49m)\n\u001b[1;32m    565\u001b[0m \u001b[38;5;28;01mexcept\u001b[39;00m InterfaceError \u001b[38;5;28;01mas\u001b[39;00m err:\n\u001b[1;32m    566\u001b[0m     \u001b[38;5;28;01mif\u001b[39;00m \u001b[38;5;28mself\u001b[39m\u001b[38;5;241m.\u001b[39m_connection\u001b[38;5;241m.\u001b[39mhave_next_result:\n",
      "File \u001b[0;32m/opt/anaconda3/lib/python3.9/site-packages/mysql/connector/connection.py:990\u001b[0m, in \u001b[0;36mMySQLConnection.cmd_query\u001b[0;34m(self, query, raw, buffered, raw_as_string)\u001b[0m\n\u001b[1;32m    988\u001b[0m query \u001b[38;5;241m=\u001b[39m \u001b[38;5;28mbytes\u001b[39m(packet)\n\u001b[1;32m    989\u001b[0m \u001b[38;5;28;01mtry\u001b[39;00m:\n\u001b[0;32m--> 990\u001b[0m     result \u001b[38;5;241m=\u001b[39m \u001b[38;5;28;43mself\u001b[39;49m\u001b[38;5;241;43m.\u001b[39;49m\u001b[43m_handle_result\u001b[49m\u001b[43m(\u001b[49m\u001b[38;5;28;43mself\u001b[39;49m\u001b[38;5;241;43m.\u001b[39;49m\u001b[43m_send_cmd\u001b[49m\u001b[43m(\u001b[49m\u001b[43mServerCmd\u001b[49m\u001b[38;5;241;43m.\u001b[39;49m\u001b[43mQUERY\u001b[49m\u001b[43m,\u001b[49m\u001b[43m \u001b[49m\u001b[43mquery\u001b[49m\u001b[43m)\u001b[49m\u001b[43m)\u001b[49m\n\u001b[1;32m    991\u001b[0m \u001b[38;5;28;01mexcept\u001b[39;00m ProgrammingError \u001b[38;5;28;01mas\u001b[39;00m err:\n\u001b[1;32m    992\u001b[0m     \u001b[38;5;28;01mif\u001b[39;00m err\u001b[38;5;241m.\u001b[39merrno \u001b[38;5;241m==\u001b[39m \u001b[38;5;241m3948\u001b[39m \u001b[38;5;129;01mand\u001b[39;00m \u001b[38;5;124m\"\u001b[39m\u001b[38;5;124mLoading local data is disabled\u001b[39m\u001b[38;5;124m\"\u001b[39m \u001b[38;5;129;01min\u001b[39;00m err\u001b[38;5;241m.\u001b[39mmsg:\n",
      "File \u001b[0;32m/opt/anaconda3/lib/python3.9/site-packages/mysql/connector/connection.py:784\u001b[0m, in \u001b[0;36mMySQLConnection._handle_result\u001b[0;34m(self, packet)\u001b[0m\n\u001b[1;32m    782\u001b[0m     \u001b[38;5;28;01mreturn\u001b[39;00m \u001b[38;5;28mself\u001b[39m\u001b[38;5;241m.\u001b[39m_handle_eof(packet)\n\u001b[1;32m    783\u001b[0m \u001b[38;5;28;01mif\u001b[39;00m packet[\u001b[38;5;241m4\u001b[39m] \u001b[38;5;241m==\u001b[39m \u001b[38;5;241m255\u001b[39m:\n\u001b[0;32m--> 784\u001b[0m     \u001b[38;5;28;01mraise\u001b[39;00m get_exception(packet)\n\u001b[1;32m    786\u001b[0m \u001b[38;5;66;03m# We have a text result set\u001b[39;00m\n\u001b[1;32m    787\u001b[0m column_count \u001b[38;5;241m=\u001b[39m \u001b[38;5;28mself\u001b[39m\u001b[38;5;241m.\u001b[39m_protocol\u001b[38;5;241m.\u001b[39mparse_column_count(packet)\n",
      "\u001b[0;31mIntegrityError\u001b[0m: 1062 (23000): Duplicate entry '1-1-1' for key 'diagnosis.PRIMARY'"
     ]
    }
   ],
   "source": [
    "query = \"insert into diagnosis (appointment_id, prescription_id, lab_test_id) values (1, 1, 1);\"\n",
    "with conn.cursor() as cursor:\n",
    "    cursor.execute(query)\n",
    "    result = cursor.fetchall()"
   ]
  },
  {
   "cell_type": "code",
   "execution_count": 265,
   "id": "62b24c69",
   "metadata": {},
   "outputs": [],
   "source": [
    "query = \"SELECT * FROM mydoc.generate_bill_view\"\n",
    "with conn.cursor() as cursor:\n",
    "    cursor.execute(query)\n",
    "    result = cursor.fetchall()"
   ]
  },
  {
   "cell_type": "code",
   "execution_count": 266,
   "id": "a2e76506",
   "metadata": {},
   "outputs": [
    {
     "data": {
      "text/html": [
       "<div>\n",
       "<style scoped>\n",
       "    .dataframe tbody tr th:only-of-type {\n",
       "        vertical-align: middle;\n",
       "    }\n",
       "\n",
       "    .dataframe tbody tr th {\n",
       "        vertical-align: top;\n",
       "    }\n",
       "\n",
       "    .dataframe thead th {\n",
       "        text-align: right;\n",
       "    }\n",
       "</style>\n",
       "<table border=\"1\" class=\"dataframe\">\n",
       "  <thead>\n",
       "    <tr style=\"text-align: right;\">\n",
       "      <th></th>\n",
       "      <th>Appointment ID</th>\n",
       "      <th>Appointment Date</th>\n",
       "      <th>Appointment Time</th>\n",
       "      <th>Patient Name</th>\n",
       "      <th>Doctor Name</th>\n",
       "      <th>Hospital Name</th>\n",
       "      <th>Visit Charges</th>\n",
       "      <th>Prescription Amount</th>\n",
       "      <th>Lab Test Amount</th>\n",
       "      <th>Final Bill</th>\n",
       "    </tr>\n",
       "  </thead>\n",
       "  <tbody>\n",
       "    <tr>\n",
       "      <th>0</th>\n",
       "      <td>1</td>\n",
       "      <td>2022-11-28</td>\n",
       "      <td>0 days 13:00:00</td>\n",
       "      <td>Kahaleel Boorer</td>\n",
       "      <td>Amie Coltman</td>\n",
       "      <td>Cormier LLC</td>\n",
       "      <td>150.0</td>\n",
       "      <td>1206.24</td>\n",
       "      <td>50.76</td>\n",
       "      <td>1266.3</td>\n",
       "    </tr>\n",
       "  </tbody>\n",
       "</table>\n",
       "</div>"
      ],
      "text/plain": [
       "   Appointment ID Appointment Date Appointment Time     Patient Name  \\\n",
       "0               1       2022-11-28  0 days 13:00:00  Kahaleel Boorer   \n",
       "\n",
       "    Doctor Name Hospital Name  Visit Charges  Prescription Amount  \\\n",
       "0  Amie Coltman   Cormier LLC          150.0              1206.24   \n",
       "\n",
       "   Lab Test Amount  Final Bill  \n",
       "0            50.76      1266.3  "
      ]
     },
     "metadata": {},
     "output_type": "display_data"
    }
   ],
   "source": [
    "df = pd.DataFrame(result)\n",
    "df.columns = [\"Appointment ID\",\"Appointment Date\",\"Appointment Time\",\"Patient Name\", \"Doctor Name\",\"Hospital Name\", \"Visit Charges\", \"Prescription Amount\", \"Lab Test Amount\", \"Final Bill\"]\n",
    "\n",
    "display(df.iloc[:1])"
   ]
  },
  {
   "cell_type": "code",
   "execution_count": 267,
   "id": "040ee5e1",
   "metadata": {},
   "outputs": [],
   "source": [
    "conn.commit()"
   ]
  },
  {
   "cell_type": "markdown",
   "id": "e8daa541",
   "metadata": {},
   "source": [
    "### Admin"
   ]
  },
  {
   "cell_type": "markdown",
   "id": "4e0d654f",
   "metadata": {},
   "source": [
    "<b> Shows the admin the working status of a docto at a specific date & time</b>"
   ]
  },
  {
   "cell_type": "code",
   "execution_count": 268,
   "id": "fa628c0a",
   "metadata": {},
   "outputs": [
    {
     "name": "stdout",
     "output_type": "stream",
     "text": [
      "Doctor is Working Now\n"
     ]
    }
   ],
   "source": [
    "def onCallDoctors( doctor_id,appointment_date, appointment_time):\n",
    "    message = \"\"\n",
    "    with conn.cursor() as cursor:\n",
    "        cursor.callproc('onCallDoctors',(doctor_id, appointment_date, appointment_time, message))\n",
    "        results = cursor.stored_results()\n",
    "        \n",
    "        for result in results:\n",
    "            print(result.fetchall()[0][0])\n",
    "    \n",
    "onCallDoctors( doctor_id,appointment_date, appointment_time )"
   ]
  },
  {
   "cell_type": "markdown",
   "id": "cdacf157",
   "metadata": {},
   "source": [
    "<b> Shows the admin the number of doctors that are working on a given day. </b>"
   ]
  },
  {
   "cell_type": "code",
   "execution_count": 269,
   "id": "0b5217c3",
   "metadata": {},
   "outputs": [
    {
     "name": "stdout",
     "output_type": "stream",
     "text": [
      "wednesday_work\n",
      "5\n"
     ]
    }
   ],
   "source": [
    "def numDoctors( appointment_date):\n",
    "    num = \"\"\n",
    "    with conn.cursor() as cursor:\n",
    "        cursor.callproc('numDoctors',( appointment_date, num))\n",
    "        results = cursor.stored_results()\n",
    "        \n",
    "        for result in results:\n",
    "            print(result.fetchall()[0][0])\n",
    "    \n",
    "numDoctors( appointment_date )"
   ]
  },
  {
   "cell_type": "markdown",
   "id": "fed7d272",
   "metadata": {},
   "source": [
    "<b> Shows the details of all the users except their sensitive information such as SNN & password. This includes the patients and doctors. </b>"
   ]
  },
  {
   "cell_type": "code",
   "execution_count": 279,
   "id": "22f7d2a9",
   "metadata": {},
   "outputs": [],
   "source": [
    "query = \"\"\"SELECT * FROM mydoc.userinfo\"\"\"\n",
    "with conn.cursor() as cursor:\n",
    "    cursor.execute(query)\n",
    "    result = cursor.fetchall()"
   ]
  },
  {
   "cell_type": "code",
   "execution_count": 280,
   "id": "036cbaa3",
   "metadata": {},
   "outputs": [
    {
     "data": {
      "text/html": [
       "<div>\n",
       "<style scoped>\n",
       "    .dataframe tbody tr th:only-of-type {\n",
       "        vertical-align: middle;\n",
       "    }\n",
       "\n",
       "    .dataframe tbody tr th {\n",
       "        vertical-align: top;\n",
       "    }\n",
       "\n",
       "    .dataframe thead th {\n",
       "        text-align: right;\n",
       "    }\n",
       "</style>\n",
       "<table border=\"1\" class=\"dataframe\">\n",
       "  <thead>\n",
       "    <tr style=\"text-align: right;\">\n",
       "      <th></th>\n",
       "      <th>User ID</th>\n",
       "      <th>Full Name</th>\n",
       "      <th>Gender</th>\n",
       "      <th>Date of Birth</th>\n",
       "      <th>Address</th>\n",
       "      <th>City</th>\n",
       "      <th>State</th>\n",
       "      <th>Pincode</th>\n",
       "      <th>Phone Number</th>\n",
       "      <th>Email ID</th>\n",
       "    </tr>\n",
       "  </thead>\n",
       "  <tbody>\n",
       "    <tr>\n",
       "      <th>0</th>\n",
       "      <td>1</td>\n",
       "      <td>Kahaleel Boorer</td>\n",
       "      <td>Bigender</td>\n",
       "      <td>2022-11-07</td>\n",
       "      <td>8 Homewood Alley</td>\n",
       "      <td>Milwaukee</td>\n",
       "      <td>Wisconsin</td>\n",
       "      <td>53210</td>\n",
       "      <td>262-460-1044</td>\n",
       "      <td>kboorer0@mapquest.com</td>\n",
       "    </tr>\n",
       "    <tr>\n",
       "      <th>1</th>\n",
       "      <td>2</td>\n",
       "      <td>Harmon Mayell</td>\n",
       "      <td>Male</td>\n",
       "      <td>2022-10-23</td>\n",
       "      <td>20 Helena Park</td>\n",
       "      <td>West Hartford</td>\n",
       "      <td>Connecticut</td>\n",
       "      <td>06127</td>\n",
       "      <td>860-592-5042</td>\n",
       "      <td>hmayell1@yandex.ru</td>\n",
       "    </tr>\n",
       "    <tr>\n",
       "      <th>2</th>\n",
       "      <td>3</td>\n",
       "      <td>Joycelin Toon</td>\n",
       "      <td>Female</td>\n",
       "      <td>2022-09-28</td>\n",
       "      <td>11841 Grayhawk Road</td>\n",
       "      <td>Oklahoma City</td>\n",
       "      <td>Oklahoma</td>\n",
       "      <td>73147</td>\n",
       "      <td>405-938-3497</td>\n",
       "      <td>jtoon2@imageshack.us</td>\n",
       "    </tr>\n",
       "    <tr>\n",
       "      <th>3</th>\n",
       "      <td>4</td>\n",
       "      <td>Gardner Guinness</td>\n",
       "      <td>Male</td>\n",
       "      <td>2022-09-23</td>\n",
       "      <td>6 Banding Court</td>\n",
       "      <td>New York City</td>\n",
       "      <td>New York</td>\n",
       "      <td>10155</td>\n",
       "      <td>917-659-0187</td>\n",
       "      <td>gguinness3@nsw.gov.au</td>\n",
       "    </tr>\n",
       "    <tr>\n",
       "      <th>4</th>\n",
       "      <td>5</td>\n",
       "      <td>Brendon Capron</td>\n",
       "      <td>Male</td>\n",
       "      <td>2022-09-21</td>\n",
       "      <td>8 Hauk Terrace</td>\n",
       "      <td>Bronx</td>\n",
       "      <td>New York</td>\n",
       "      <td>10474</td>\n",
       "      <td>917-709-4247</td>\n",
       "      <td>bcapron4@soup.io</td>\n",
       "    </tr>\n",
       "    <tr>\n",
       "      <th>5</th>\n",
       "      <td>6</td>\n",
       "      <td>Rollins Janeczek</td>\n",
       "      <td>Male</td>\n",
       "      <td>2022-09-24</td>\n",
       "      <td>12088 Ridgeview Terrace</td>\n",
       "      <td>Peoria</td>\n",
       "      <td>Illinois</td>\n",
       "      <td>61635</td>\n",
       "      <td>309-329-2528</td>\n",
       "      <td>rjaneczek5@about.com</td>\n",
       "    </tr>\n",
       "    <tr>\n",
       "      <th>6</th>\n",
       "      <td>7</td>\n",
       "      <td>Andie Ilden</td>\n",
       "      <td>Female</td>\n",
       "      <td>2022-10-11</td>\n",
       "      <td>88597 Mayfield Drive</td>\n",
       "      <td>Harrisburg</td>\n",
       "      <td>Pennsylvania</td>\n",
       "      <td>17140</td>\n",
       "      <td>717-508-1402</td>\n",
       "      <td>ailden6@howstuffworks.com</td>\n",
       "    </tr>\n",
       "    <tr>\n",
       "      <th>7</th>\n",
       "      <td>8</td>\n",
       "      <td>Aurora D'Adamo</td>\n",
       "      <td>Female</td>\n",
       "      <td>2022-11-07</td>\n",
       "      <td>048 Valley Edge Alley</td>\n",
       "      <td>Dayton</td>\n",
       "      <td>Ohio</td>\n",
       "      <td>45490</td>\n",
       "      <td>937-374-0423</td>\n",
       "      <td>adadamo7@godaddy.com</td>\n",
       "    </tr>\n",
       "    <tr>\n",
       "      <th>8</th>\n",
       "      <td>9</td>\n",
       "      <td>Giuseppe Parade</td>\n",
       "      <td>Male</td>\n",
       "      <td>2022-10-03</td>\n",
       "      <td>961 Farmco Park</td>\n",
       "      <td>Suffolk</td>\n",
       "      <td>Virginia</td>\n",
       "      <td>23436</td>\n",
       "      <td>757-473-2755</td>\n",
       "      <td>gparade8@youtu.be</td>\n",
       "    </tr>\n",
       "    <tr>\n",
       "      <th>9</th>\n",
       "      <td>10</td>\n",
       "      <td>Zorine Leveridge</td>\n",
       "      <td>Female</td>\n",
       "      <td>2022-09-25</td>\n",
       "      <td>900 Victoria Alley</td>\n",
       "      <td>Amarillo</td>\n",
       "      <td>Texas</td>\n",
       "      <td>79176</td>\n",
       "      <td>806-904-1874</td>\n",
       "      <td>zleveridge9@wunderground.com</td>\n",
       "    </tr>\n",
       "    <tr>\n",
       "      <th>10</th>\n",
       "      <td>11</td>\n",
       "      <td>Amie Coltman</td>\n",
       "      <td>Female</td>\n",
       "      <td>2022-11-03</td>\n",
       "      <td>9 Blue Bill Park Terrace</td>\n",
       "      <td>Great Neck</td>\n",
       "      <td>New York</td>\n",
       "      <td>11024</td>\n",
       "      <td>516-732-9071</td>\n",
       "      <td>acoltmana@myspace.com</td>\n",
       "    </tr>\n",
       "    <tr>\n",
       "      <th>11</th>\n",
       "      <td>12</td>\n",
       "      <td>Brennen Hairsnape</td>\n",
       "      <td>Male</td>\n",
       "      <td>2022-11-14</td>\n",
       "      <td>503 Holy Cross Plaza</td>\n",
       "      <td>New York City</td>\n",
       "      <td>New York</td>\n",
       "      <td>10270</td>\n",
       "      <td>347-208-5675</td>\n",
       "      <td>bhairsnapeb@goodreads.com</td>\n",
       "    </tr>\n",
       "    <tr>\n",
       "      <th>12</th>\n",
       "      <td>13</td>\n",
       "      <td>Sarene McRae</td>\n",
       "      <td>Female</td>\n",
       "      <td>2022-10-02</td>\n",
       "      <td>858 Pond Terrace</td>\n",
       "      <td>New Orleans</td>\n",
       "      <td>Louisiana</td>\n",
       "      <td>70165</td>\n",
       "      <td>504-476-0740</td>\n",
       "      <td>smcraec@loc.gov</td>\n",
       "    </tr>\n",
       "    <tr>\n",
       "      <th>13</th>\n",
       "      <td>14</td>\n",
       "      <td>Ashlin Dumbare</td>\n",
       "      <td>Male</td>\n",
       "      <td>2022-09-30</td>\n",
       "      <td>80378 Burrows Terrace</td>\n",
       "      <td>New York City</td>\n",
       "      <td>New York</td>\n",
       "      <td>10260</td>\n",
       "      <td>212-642-3584</td>\n",
       "      <td>adumbared@meetup.com</td>\n",
       "    </tr>\n",
       "    <tr>\n",
       "      <th>14</th>\n",
       "      <td>15</td>\n",
       "      <td>Sophronia Brighty</td>\n",
       "      <td>Female</td>\n",
       "      <td>2022-09-19</td>\n",
       "      <td>63356 Cody Road</td>\n",
       "      <td>Van Nuys</td>\n",
       "      <td>California</td>\n",
       "      <td>91411</td>\n",
       "      <td>213-792-7876</td>\n",
       "      <td>sbrightye@cbc.ca</td>\n",
       "    </tr>\n",
       "    <tr>\n",
       "      <th>15</th>\n",
       "      <td>16</td>\n",
       "      <td>Darin Wilcocke</td>\n",
       "      <td>Male</td>\n",
       "      <td>2022-11-26</td>\n",
       "      <td>50 Union Court</td>\n",
       "      <td>Newark</td>\n",
       "      <td>Delaware</td>\n",
       "      <td>19714</td>\n",
       "      <td>302-743-0298</td>\n",
       "      <td>dwilcockef@sfgate.com</td>\n",
       "    </tr>\n",
       "    <tr>\n",
       "      <th>16</th>\n",
       "      <td>17</td>\n",
       "      <td>Alyssa Eusden</td>\n",
       "      <td>Female</td>\n",
       "      <td>2022-09-06</td>\n",
       "      <td>7052 Talisman Trail</td>\n",
       "      <td>Boynton Beach</td>\n",
       "      <td>Florida</td>\n",
       "      <td>33436</td>\n",
       "      <td>561-797-1522</td>\n",
       "      <td>aeusdeng@jugem.jp</td>\n",
       "    </tr>\n",
       "    <tr>\n",
       "      <th>17</th>\n",
       "      <td>18</td>\n",
       "      <td>Engracia Hick</td>\n",
       "      <td>Female</td>\n",
       "      <td>2022-09-03</td>\n",
       "      <td>9687 4th Plaza</td>\n",
       "      <td>Cincinnati</td>\n",
       "      <td>Ohio</td>\n",
       "      <td>45254</td>\n",
       "      <td>513-986-3648</td>\n",
       "      <td>ehickh@reuters.com</td>\n",
       "    </tr>\n",
       "    <tr>\n",
       "      <th>18</th>\n",
       "      <td>19</td>\n",
       "      <td>Joseph Brockwell</td>\n",
       "      <td>Bigender</td>\n",
       "      <td>2022-02-12</td>\n",
       "      <td>998 Westport Pass</td>\n",
       "      <td>Des Moines</td>\n",
       "      <td>Iowa</td>\n",
       "      <td>50936</td>\n",
       "      <td>515-217-3485</td>\n",
       "      <td>jbrockwelli@newsvine.com</td>\n",
       "    </tr>\n",
       "    <tr>\n",
       "      <th>19</th>\n",
       "      <td>20</td>\n",
       "      <td>Roma McKirdy</td>\n",
       "      <td>Male</td>\n",
       "      <td>2022-10-28</td>\n",
       "      <td>402 Heffernan Drive</td>\n",
       "      <td>Los Angeles</td>\n",
       "      <td>California</td>\n",
       "      <td>90020</td>\n",
       "      <td>818-791-7281</td>\n",
       "      <td>rmckirdyj@alibaba.com</td>\n",
       "    </tr>\n",
       "    <tr>\n",
       "      <th>20</th>\n",
       "      <td>21</td>\n",
       "      <td>Sibel Goodbourn</td>\n",
       "      <td>Female</td>\n",
       "      <td>2022-09-14</td>\n",
       "      <td>76252 Sutherland Place</td>\n",
       "      <td>Bonita Springs</td>\n",
       "      <td>Florida</td>\n",
       "      <td>34135</td>\n",
       "      <td>941-601-5530</td>\n",
       "      <td>sgoodbournk@behance.net</td>\n",
       "    </tr>\n",
       "  </tbody>\n",
       "</table>\n",
       "</div>"
      ],
      "text/plain": [
       "    User ID          Full Name    Gender Date of Birth  \\\n",
       "0         1    Kahaleel Boorer  Bigender    2022-11-07   \n",
       "1         2      Harmon Mayell      Male    2022-10-23   \n",
       "2         3      Joycelin Toon    Female    2022-09-28   \n",
       "3         4   Gardner Guinness      Male    2022-09-23   \n",
       "4         5     Brendon Capron      Male    2022-09-21   \n",
       "5         6   Rollins Janeczek      Male    2022-09-24   \n",
       "6         7        Andie Ilden    Female    2022-10-11   \n",
       "7         8     Aurora D'Adamo    Female    2022-11-07   \n",
       "8         9    Giuseppe Parade      Male    2022-10-03   \n",
       "9        10   Zorine Leveridge    Female    2022-09-25   \n",
       "10       11       Amie Coltman    Female    2022-11-03   \n",
       "11       12  Brennen Hairsnape      Male    2022-11-14   \n",
       "12       13       Sarene McRae    Female    2022-10-02   \n",
       "13       14     Ashlin Dumbare      Male    2022-09-30   \n",
       "14       15  Sophronia Brighty    Female    2022-09-19   \n",
       "15       16     Darin Wilcocke      Male    2022-11-26   \n",
       "16       17      Alyssa Eusden    Female    2022-09-06   \n",
       "17       18      Engracia Hick    Female    2022-09-03   \n",
       "18       19   Joseph Brockwell  Bigender    2022-02-12   \n",
       "19       20       Roma McKirdy      Male    2022-10-28   \n",
       "20       21    Sibel Goodbourn    Female    2022-09-14   \n",
       "\n",
       "                     Address            City         State Pincode  \\\n",
       "0           8 Homewood Alley       Milwaukee     Wisconsin   53210   \n",
       "1             20 Helena Park   West Hartford   Connecticut   06127   \n",
       "2        11841 Grayhawk Road   Oklahoma City      Oklahoma   73147   \n",
       "3            6 Banding Court   New York City      New York   10155   \n",
       "4             8 Hauk Terrace           Bronx      New York   10474   \n",
       "5    12088 Ridgeview Terrace          Peoria      Illinois   61635   \n",
       "6       88597 Mayfield Drive      Harrisburg  Pennsylvania   17140   \n",
       "7      048 Valley Edge Alley          Dayton          Ohio   45490   \n",
       "8            961 Farmco Park         Suffolk      Virginia   23436   \n",
       "9         900 Victoria Alley        Amarillo         Texas   79176   \n",
       "10  9 Blue Bill Park Terrace      Great Neck      New York   11024   \n",
       "11      503 Holy Cross Plaza   New York City      New York   10270   \n",
       "12          858 Pond Terrace     New Orleans     Louisiana   70165   \n",
       "13     80378 Burrows Terrace   New York City      New York   10260   \n",
       "14           63356 Cody Road        Van Nuys    California   91411   \n",
       "15            50 Union Court          Newark      Delaware   19714   \n",
       "16       7052 Talisman Trail   Boynton Beach       Florida   33436   \n",
       "17            9687 4th Plaza      Cincinnati          Ohio   45254   \n",
       "18         998 Westport Pass      Des Moines          Iowa   50936   \n",
       "19       402 Heffernan Drive     Los Angeles    California   90020   \n",
       "20    76252 Sutherland Place  Bonita Springs       Florida   34135   \n",
       "\n",
       "    Phone Number                      Email ID  \n",
       "0   262-460-1044         kboorer0@mapquest.com  \n",
       "1   860-592-5042            hmayell1@yandex.ru  \n",
       "2   405-938-3497          jtoon2@imageshack.us  \n",
       "3   917-659-0187         gguinness3@nsw.gov.au  \n",
       "4   917-709-4247              bcapron4@soup.io  \n",
       "5   309-329-2528          rjaneczek5@about.com  \n",
       "6   717-508-1402     ailden6@howstuffworks.com  \n",
       "7   937-374-0423          adadamo7@godaddy.com  \n",
       "8   757-473-2755             gparade8@youtu.be  \n",
       "9   806-904-1874  zleveridge9@wunderground.com  \n",
       "10  516-732-9071         acoltmana@myspace.com  \n",
       "11  347-208-5675     bhairsnapeb@goodreads.com  \n",
       "12  504-476-0740               smcraec@loc.gov  \n",
       "13  212-642-3584          adumbared@meetup.com  \n",
       "14  213-792-7876              sbrightye@cbc.ca  \n",
       "15  302-743-0298         dwilcockef@sfgate.com  \n",
       "16  561-797-1522             aeusdeng@jugem.jp  \n",
       "17  513-986-3648            ehickh@reuters.com  \n",
       "18  515-217-3485      jbrockwelli@newsvine.com  \n",
       "19  818-791-7281         rmckirdyj@alibaba.com  \n",
       "20  941-601-5530       sgoodbournk@behance.net  "
      ]
     },
     "metadata": {},
     "output_type": "display_data"
    }
   ],
   "source": [
    "df = pd.DataFrame(result)\n",
    "df.columns = [\"User ID\",\"Full Name\",\"Gender\",\"Date of Birth\", \"Address\", \"City\", \"State\", \"Pincode\",\"Phone Number\",\"Email ID\"]\n",
    "\n",
    "display(df)"
   ]
  },
  {
   "cell_type": "code",
   "execution_count": 272,
   "id": "8f1f4e45",
   "metadata": {},
   "outputs": [
    {
     "name": "stdout",
     "output_type": "stream",
     "text": [
      "(4,)\n"
     ]
    }
   ],
   "source": [
    "def numAppointmentsToday(appointment_date,hospital_id):\n",
    "    \n",
    "    with conn.cursor(buffered=True) as cursor:\n",
    "        data = (appointment_date, hospital_id)\n",
    "        query = '''\n",
    "        select numAppointmentsToday('%s',%s) as 'Number of Doctors Today';\n",
    "        '''%data\n",
    "        cursor.execute(query)\n",
    "        \n",
    "        myresult = cursor.fetchall()\n",
    "    \n",
    "        for result in myresult:\n",
    "            print(result)\n",
    "numAppointmentsToday(\"2022-11-30\",1)"
   ]
  },
  {
   "cell_type": "markdown",
   "id": "1ffa81d4",
   "metadata": {},
   "source": [
    "### EXPLORATORY DATA ANALYSIS"
   ]
  },
  {
   "cell_type": "markdown",
   "id": "6988c7b3",
   "metadata": {},
   "source": [
    "<b> Here we are showing the pie chart for the different gender of users which can be both patients and doctors. /b<>"
   ]
  },
  {
   "cell_type": "code",
   "execution_count": 273,
   "id": "d1c85e20",
   "metadata": {},
   "outputs": [
    {
     "data": {
      "image/png": "[encoded data removed]",
      "text/plain": [
       "<Figure size 432x288 with 1 Axes>"
      ]
     },
     "metadata": {},
     "output_type": "display_data"
    }
   ],
   "source": [
    "query = \"SELECT gender,count(*) FROM users GROUP BY gender\"\n",
    "\n",
    "with conn.cursor() as cursor:\n",
    "    cursor.execute(query)\n",
    "    result = cursor.fetchall()\n",
    "    \n",
    "gender_ratio_df = pd.DataFrame(result)\n",
    "gender_ratio_df.columns = [\"Gender\", \"Count\"]\n",
    "\n",
    "plt.pie(gender_ratio_df[\"Count\"], labels=gender_ratio_df[\"Gender\"], autopct='%1.1f%%')\n",
    "plt.title('Gender Ratio')\n",
    "plt.axis('equal')\n",
    "plt.show()"
   ]
  },
  {
   "cell_type": "markdown",
   "id": "30a66d6c",
   "metadata": {},
   "source": [
    "<b> The bar chart for the top 5 departments having the highest number of doctors.</b>"
   ]
  },
  {
   "cell_type": "code",
   "execution_count": 274,
   "id": "3c3a9921",
   "metadata": {},
   "outputs": [
    {
     "data": {
      "image/png": "[encoded data removed]",
      "text/plain": [
       "<Figure size 432x288 with 1 Axes>"
      ]
     },
     "metadata": {
      "needs_background": "light"
     },
     "output_type": "display_data"
    }
   ],
   "source": [
    "query = \"\"\"SELECT name as Department_Name , sum(number_doctors)\n",
    "    from departments\n",
    "    group by name\n",
    "    order by sum(number_doctors) desc\n",
    "    limit 5;\"\"\"\n",
    "\n",
    "with conn.cursor() as cursor:\n",
    "    cursor.execute(query)\n",
    "    result = cursor.fetchall()\n",
    "    \n",
    "name_df = pd.DataFrame(result)\n",
    "name_df.columns = [\"name_of_department\", \"number_of_doctors\"]\n",
    "\n",
    "plt.bar(name_df[\"name_of_department\"], name_df[\"number_of_doctors\"], color =\"#28B463\", edgecolor =\"#CB4335\", linewidth = 2)\n",
    "plt.title('Number of Doctors in a Department')\n",
    "plt.xticks(rotation=90)\n",
    "plt.show()"
   ]
  },
  {
   "cell_type": "markdown",
   "id": "79e4ea94",
   "metadata": {},
   "source": [
    "<b> Shows the bar chart which represents the State wise Distribution of number of Hospitals.</b>"
   ]
  },
  {
   "cell_type": "code",
   "execution_count": 275,
   "id": "c350f565",
   "metadata": {},
   "outputs": [
    {
     "data": {
      "image/png": "[encoded data removed]",
      "text/plain": [
       "<Figure size 432x288 with 1 Axes>"
      ]
     },
     "metadata": {
      "needs_background": "light"
     },
     "output_type": "display_data"
    }
   ],
   "source": [
    "query = \"\"\"SELECT state,count(state) as num\n",
    "           FROM hospitals\n",
    "           GROUP BY state\n",
    "           ORDER BY count(state) desc\n",
    "           LIMIT 3\"\"\"\n",
    "\n",
    "with conn.cursor() as cursor:\n",
    "    cursor.execute(query)\n",
    "    result = cursor.fetchall()\n",
    "    \n",
    "name_df = pd.DataFrame(result)\n",
    "name_df.columns = [\"state\", \"num\"]\n",
    "\n",
    "plt.bar(name_df[\"state\"], name_df[\"num\"], color =\"#28B463\", edgecolor =\"#CB4335\", linewidth = 2)\n",
    "plt.title('State wise Distribution of number of Hospitals')\n",
    "plt.xticks(rotation=90)\n",
    "plt.show()"
   ]
  },
  {
   "cell_type": "code",
   "execution_count": 276,
   "id": "e279332e",
   "metadata": {},
   "outputs": [],
   "source": [
    "conn.close()"
   ]
  }
 ],
 "metadata": {
  "kernelspec": {
   "display_name": "Python 3 (ipykernel)",
   "language": "python",
   "name": "python3"
  },
  "language_info": {
   "codemirror_mode": {
    "name": "ipython",
    "version": 3
   },
   "file_extension": ".py",
   "mimetype": "text/x-python",
   "name": "python",
   "nbconvert_exporter": "python",
   "pygments_lexer": "ipython3",
   "version": "3.9.12"
  },
  "varInspector": {
   "cols": {
    "lenName": 16,
    "lenType": 16,
    "lenVar": 40
   },
   "kernels_config": {
    "python": {
     "delete_cmd_postfix": "",
     "delete_cmd_prefix": "del ",
     "library": "var_list.py",
     "varRefreshCmd": "print(var_dic_list())"
    },
    "r": {
     "delete_cmd_postfix": ") ",
     "delete_cmd_prefix": "rm(",
     "library": "var_list.r",
     "varRefreshCmd": "cat(var_dic_list()) "
    }
   },
   "types_to_exclude": [
    "module",
    "function",
    "builtin_function_or_method",
    "instance",
    "_Feature"
   ],
   "window_display": false
  }
 },
 "nbformat": 4,
 "nbformat_minor": 5
}
